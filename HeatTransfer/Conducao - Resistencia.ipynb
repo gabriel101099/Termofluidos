{
 "cells": [
  {
   "cell_type": "markdown",
   "metadata": {
    "slideshow": {
     "slide_type": "slide"
    }
   },
   "source": [
    "# Fenômenos de Transporte\n",
    " _Prof. Tito Dias Júnior_"
   ]
  },
  {
   "cell_type": "markdown",
   "metadata": {
    "slideshow": {
     "slide_type": "slide"
    }
   },
   "source": [
    "### Parte II: Resistência Térmica"
   ]
  },
  {
   "cell_type": "markdown",
   "metadata": {
    "slideshow": {
     "slide_type": "slide"
    }
   },
   "source": [
    "\n",
    "### **Equação de Fourier** \n",
    "Conforme abordada em outra aula, a equação de Fourier estabelece a relação entre a Taxa de Transferência de Calor por condução ($\\dot{Q}_{cond}$) e a condutividade térmica ($k$), a área de troca de calor ($A$) e o gradiente de temperatura ($dT/dx$): <br>\n",
    "\n",
    "$\\dot{Q}_{cond}=-kA\\frac{dT}{dx}$\n"
   ]
  },
  {
   "cell_type": "markdown",
   "metadata": {},
   "source": [
    "![Parede Plana](parede_plana.png \"Condução na parede plana\")"
   ]
  },
  {
   "cell_type": "markdown",
   "metadata": {
    "slideshow": {
     "slide_type": "slide"
    }
   },
   "source": [
    "Para a solução da equação de Fourier, considerando a placa plana com temperatura variando somente na direção $x$ e constante, que é uma Equação Diferecial Ordinária (EDO) unidimensional, podemos separar as variáveis $x$ e $T$, e em seguida integrar ao longo da espessura da placa:<br>\n",
    "\n",
    "$\\dot{Q}_{cond}dx=-kAdT \\Rightarrow \\int^L_0\\dot{Q}_{cond}dx=-\\int_{T1}^{T2}kAdT $ <br>\n",
    "\n",
    "E resolvendo as integrais, obtemos:\n",
    "\n",
    "$\\dot{Q}_{cond}(L-0)=-kA(T_2-T_1) \\Rightarrow \\dot{Q}_{cond}=\\frac{kA(T_1-T_2)}{L}$\n",
    "\n",
    "Seria possível, ainda, dividir o numerador e denominar da fração anterior por $kA$, e reescrevemos a equação na forma:\n",
    "\n",
    "$\\dot{Q}_{cond}=\\frac{(T_1-T_2)}{\\frac{L}{kA}}$, \n",
    "\n",
    "e fazendo uma analogia com a equação da corrente elétrica (Lei de Ohm), $I=(V1-V2)/R$, onde $V$ são os potenciais elétricos e $R$ a resistência elétrica, definimos a **Resistência Térmica** da parede como:\n",
    "\n",
    "$R_{cond}=\\frac{L}{kA}$ [°C/W]\n"
   ]
  },
  {
   "cell_type": "markdown",
   "metadata": {},
   "source": [
    "Utilizando a mesma analogia para a Lei de Resfriamento de Newton para a transferência de calor por convecção, $\\dot{Q}_{conv}=hA(T_s-T_{amb})$, obtemos:\n",
    "\n",
    "$R_{conv}=\\frac{1}{hA}$ [°C/W] ou $R_{comb}=\\frac{1}{h_{comb}A}$, quando houver combinação entre convecção e radiação."
   ]
  },
  {
   "cell_type": "markdown",
   "metadata": {},
   "source": [
    "```{warning}\n",
    "Here is a note\n",
    "```\n",
    "````{margin}\n",
    "```{note}\n",
    "Here's my note!\n",
    "```\n",
    "````\n",
    "```{image} ../resistencia_termica.png\n",
    ":alt: cool!\n",
    ":height: 100px\n",
    "```"
   ]
  },
  {
   "cell_type": "markdown",
   "metadata": {},
   "source": [
    "De forma análoga, também, podemos analisar a combinação de modos de transferência de calor diferentes (Condução, Convecção e Radiação) como uma combinação de resistências térmicas associadas em série ou em paralelo:\n",
    "\n",
    "![Resistência Térmica](resistencia_termica.png \"Associação de Resistências Térmicas\")"
   ]
  },
  {
   "cell_type": "markdown",
   "metadata": {},
   "source": [
    "Assim a resistência térmica total pode ser representada:\n",
    "\n",
    "$R_{total}=R_{conv,1}+R_{wall}+R_{conv,2}$\n"
   ]
  },
  {
   "cell_type": "markdown",
   "metadata": {},
   "source": [
    "Outra conclusão que podemos tirar da análise desse problema, lembrando da conservação da energia, é que a taxa de transferência de calor que atravessa uma resistência, nessa associação em série, é igual àquela que atravessa todas as outras, ou seja:\n",
    "\n",
    "$ \\dot{Q}_{conv,1} = \\dot{Q}_{cond} = \\dot{Q}_{conv,2}$\n",
    "\n",
    "Utilizando a expressão para resistência térmica, obtemos\n",
    "\n",
    "$\\frac{T_{\\infty 1}-T_1}{R_{conv,1}} = \\frac{T_1-T_2}{R_{wall}} =\\frac{T_{\\infty 2}-T_2}{R_{conv,2}} $"
   ]
  },
  {
   "cell_type": "markdown",
   "metadata": {},
   "source": [
    "Ou podemos escrever:\n",
    "\n",
    "$\\dot{Q}=\\frac{T_{\\infty 1}-T_{\\infty 2}}{R_{total}}$\n",
    "\n",
    "onde $R_{total}=R_{conv,1}+R_{wall}+R_{conv,2}=\\frac{1}{h_1 A}+\\frac{L}{kA}+\\frac{1}{h_2A}$"
   ]
  },
  {
   "cell_type": "markdown",
   "metadata": {},
   "source": [
    "## Exemplo: Perda de calor através de uma janela"
   ]
  },
  {
   "cell_type": "markdown",
   "metadata": {},
   "source": [
    "Considere uma janela com $0,8m$ de altura, $1,5m$ de largura, $8mm$ de espessura e condutividade térmica igual a $0,78 W/m °C$. Considerando regime permanente, determine a taxa de transferência de calor através dessa janela e a temperatura da superfície interna, para um dia em que a temperatura do ambiente interno é mantida a $20°C$ enquanto a temperatura do ambiente externo é $-10°C$. Considere os coeficientes de transferência de calor combinados (Convecção+Radiação) para o ambiente interno ($h_1=10W/m^2°C$) e externo ($h_2=40W/m^2°C$).\n"
   ]
  },
  {
   "cell_type": "markdown",
   "metadata": {
    "slideshow": {
     "slide_type": "slide"
    }
   },
   "source": [
    "![image](exemplo17-2.png \"Diagrama esquemático da transferência de calor em uma janela\")"
   ]
  },
  {
   "cell_type": "markdown",
   "metadata": {
    "slideshow": {
     "slide_type": "slide"
    }
   },
   "source": [
    "## Solução\n",
    "\n",
    "Há perda de calor do ambiente interno para o extermo através da janela de vidro. Deve-se determinar a taxa de perda de calor através da janela e a temperatura de sua superfície interna.\n",
    "\n",
    "### Hipóteses\n",
    "1. Regime permanente, ou seja, temperaturas constantes. \n",
    "2. Transferência de calor unidimensional \n",
    "3. Condutividade térmica constante\n"
   ]
  },
  {
   "cell_type": "markdown",
   "metadata": {
    "slideshow": {
     "slide_type": "slide"
    }
   },
   "source": [
    "### Propriedades - Condutividade térmica\n",
    "1. Janela de vidro  $ k=0,78 W/m ° C $ "
   ]
  },
  {
   "cell_type": "code",
   "execution_count": 2,
   "metadata": {},
   "outputs": [],
   "source": [
    "k_vid = 0.78 # Condutividade térmica do vidro\n",
    "h_1 = 10     # Coeficiente de tranf. de calor por convecção.\n",
    "h_2 = 40     # Coeficiente de tranf. de calor por convecção.\n",
    "L = 0.020    # Espessura do vidro (8mm) em metros\n",
    "Ti = 20      # Temperatura interna em °C\n",
    "Te = -10     # Temperatura externa em °C"
   ]
  },
  {
   "cell_type": "markdown",
   "metadata": {
    "slideshow": {
     "slide_type": "slide"
    }
   },
   "source": [
    "### Análise\n",
    " As taxas de transferência de calor através da janela pode ser calculada por meio do cálculo da resistência térmica total $R_{total}=R_{conv,i}+R_{vid}+R_{conv,e}$, para isso determinamos inicialmente a área da janela: $A=0,8x1,5=1,2m^2$\n",
    " "
   ]
  },
  {
   "cell_type": "code",
   "execution_count": 3,
   "metadata": {},
   "outputs": [],
   "source": [
    "A = 0.8*1.5"
   ]
  },
  {
   "cell_type": "markdown",
   "metadata": {
    "slideshow": {
     "slide_type": "slide"
    }
   },
   "source": [
    " e depois $R_{conv,i}=\\frac{1}{h_1A}$ e $R_{cond}=\\frac{L}{kA}$"
   ]
  },
  {
   "cell_type": "code",
   "execution_count": 4,
   "metadata": {
    "slideshow": {
     "slide_type": "fragment"
    }
   },
   "outputs": [],
   "source": [
    "# Definindo a função que calcula a resistência térmica combinada (Radiação+Convecção)\n",
    "def Rconv(h,A):\n",
    "    Rconv = 1/(h*A)\n",
    "    return Rconv\n",
    "\n",
    "# Definindo a função que calcula a resistência térmica de condução\n",
    "def Rcond(k,L,A):\n",
    "    Rcond = L/(k*A)\n",
    "    return Rcond"
   ]
  },
  {
   "cell_type": "code",
   "execution_count": 5,
   "metadata": {},
   "outputs": [
    {
     "name": "stdout",
     "output_type": "stream",
     "text": [
      "Rconv_i = 0.08333°C/W\n",
      "Rconv_e = 0.02083°C/W\n",
      "Rvid = 0.02137°C/W\n"
     ]
    }
   ],
   "source": [
    "Rconv_i = Rconv(h_1,A)                        # Calcula a Rconv interno\n",
    "print('Rconv_i = {:.5f}°C/W'.format(Rconv_i)) # Mostra o valor calculado\n",
    "\n",
    "Rconv_e = Rconv(h_2,A)                        # Calcula a Rconv externo\n",
    "print('Rconv_e = {:.5f}°C/W'.format(Rconv_e)) # Mostra o valor calculado\n",
    "\n",
    "Rvid = Rcond(k_vid,L,A)                       # Calcula a Rvid (Condução) \n",
    "print('Rvid = {:.5f}°C/W'.format(Rvid))       # Mostra o valor calculado"
   ]
  },
  {
   "cell_type": "markdown",
   "metadata": {},
   "source": [
    "Calculando a resistência térmica total  $R_{total}=R_{conv,i}+R_{vid}+R_{conv,e}$"
   ]
  },
  {
   "cell_type": "code",
   "execution_count": 6,
   "metadata": {},
   "outputs": [
    {
     "name": "stdout",
     "output_type": "stream",
     "text": [
      "R_total = 0.1255°C/W\n"
     ]
    }
   ],
   "source": [
    "R_total = Rconv_i+Rvid+Rconv_e                # Soma todas as resistências térmicas\n",
    "print('R_total = {:.4f}°C/W'.format(R_total)) # Mostra a resistência térmica total"
   ]
  },
  {
   "cell_type": "markdown",
   "metadata": {
    "slideshow": {
     "slide_type": "slide"
    }
   },
   "source": [
    "Portanto, a taxa de perda de calor através da parede é equivalente ao calor conduzido pela parede: <br>"
   ]
  },
  {
   "cell_type": "markdown",
   "metadata": {
    "slideshow": {
     "slide_type": "slide"
    }
   },
   "source": [
    "$\\dot{Q}=\\frac{T_{i}-T_{e}}{R_{total}}$"
   ]
  },
  {
   "cell_type": "code",
   "execution_count": 7,
   "metadata": {
    "slideshow": {
     "slide_type": "fragment"
    }
   },
   "outputs": [
    {
     "name": "stdout",
     "output_type": "stream",
     "text": [
      "Q = 238.98°C/W\n"
     ]
    }
   ],
   "source": [
    "Q = (Ti-Te)/R_total                 # Taxa de transf. de Calor\n",
    "print('Q = {:.2f}°C/W'.format(Q))   # Mostra o valor calculado\n"
   ]
  },
  {
   "cell_type": "markdown",
   "metadata": {},
   "source": [
    "Para determinarmos a temperatura na parede interna, sabemos que  \n",
    "\n",
    "$Q=\\frac{T_{i}-T_1}{R_{conv,1}} $\n",
    "\n",
    "Assim, reescrevendo a equação para isolar $T_1$, que é a temperatura da superfície interna da janela, obtemos\n",
    "\n",
    "$ T_1 = T_i-Q*R_{conv,1}$\n"
   ]
  },
  {
   "cell_type": "code",
   "execution_count": 8,
   "metadata": {
    "slideshow": {
     "slide_type": "fragment"
    }
   },
   "outputs": [
    {
     "name": "stdout",
     "output_type": "stream",
     "text": [
      "T = 0.09°C\n"
     ]
    }
   ],
   "source": [
    "T1 = Ti - Q*Rconv_i              # Calcula temperatura na superfície interna da janela (T1)\n",
    "print('T = {:.2f}°C'.format(T1)) # Mostra o valor calculado\n"
   ]
  },
  {
   "cell_type": "markdown",
   "metadata": {},
   "source": [
    "### Questão:\n",
    "Qual a espessura do vidro que faz com que a temperatura da superfície interna da janela seja igual a $0 °C$? Calcular usando este notebook e enviar um print no AVA."
   ]
  },
  {
   "cell_type": "markdown",
   "metadata": {
    "slideshow": {
     "slide_type": "slide"
    }
   },
   "source": [
    "## Referência"
   ]
  },
  {
   "cell_type": "markdown",
   "metadata": {
    "slideshow": {
     "slide_type": "fragment"
    }
   },
   "source": [
    "Çengel, Y. A., Turner, R. H., & Cimbala, J. M. (2008). **Fundamentals of thermal-fluid sciences**. Boston: McGraw-Hill."
   ]
  },
  {
   "cell_type": "code",
   "execution_count": null,
   "metadata": {},
   "outputs": [],
   "source": []
  }
 ],
 "metadata": {
  "kernelspec": {
   "display_name": "Python 3",
   "language": "python",
   "name": "python3"
  },
  "language_info": {
   "codemirror_mode": {
    "name": "ipython",
    "version": 3
   },
   "file_extension": ".py",
   "mimetype": "text/x-python",
   "name": "python",
   "nbconvert_exporter": "python",
   "pygments_lexer": "ipython3",
   "version": "3.7.6"
  }
 },
 "nbformat": 4,
 "nbformat_minor": 4
}
