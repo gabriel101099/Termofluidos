{
 "cells": [
  {
   "cell_type": "markdown",
   "metadata": {
    "slideshow": {
     "slide_type": "slide"
    }
   },
   "source": [
    "# Fenômenos de Transporte\n",
    "## Perda de Calor através de um Parede Dupla\n",
    " _Prof. Tito Dias Júnior_"
   ]
  },
  {
   "cell_type": "markdown",
   "metadata": {
    "slideshow": {
     "slide_type": "slide"
    }
   },
   "source": [
    "### Parte III: Resistência Térmica em Parede Composta"
   ]
  },
  {
   "cell_type": "markdown",
   "metadata": {
    "slideshow": {
     "slide_type": "slide"
    }
   },
   "source": [
    "### **Exemplo** \n",
    "\n",
    "Considere uma janela com paredes duplas de vidro com $0,8m$ de altura e $1,5m$ de largura constituída de duas camadas de vidro de $4mm$ de espessura ($k = 0.78 W/(m °C)$) separadas por uma camada de ar estagnado de $10mm$ de espessura ($k = 0.026 W/(m°C)$). Determine a taxa de transferência de calor que atravessa essa janela e a temperatura da superfície interna da janela para um dia em que a temperatura do ambiente interno seja mantido a $20°C$ enquanto a temperatura do ambiente externo seja de $-10°C$. Assuma que os coeficientes de película interno e externo sejam, respectivamente, $h_1=10W/m^2$ e $h_2=40W/m^2$, e incluem os efeitos de convecção e radiação. \n",
    "\n",
    "Este exemplo é semelhante ao da aula anterior, diferindo pela presença de duas camadas de vidro separadas por ar estagnado. Vejamos então o efeito dessa montagem na magnitude da taxa de transferência de calor.\n",
    "\n",
    "> \n",
    "> [Para revisar!](Conducao_resistencia.ypnb)\n"
   ]
  },
  {
   "cell_type": "markdown",
   "metadata": {
    "slideshow": {
     "slide_type": "slide"
    }
   },
   "source": [
    "![image](exemplo17-3.png \"Diagrama esquemático da transferência de calor em uma janela dupla\")"
   ]
  },
  {
   "cell_type": "markdown",
   "metadata": {
    "slideshow": {
     "slide_type": "slide"
    }
   },
   "source": [
    "## Solução\n",
    "\n",
    "Há perda de calor do ambiente interno para o extermo através da janela de vidro. Deve-se determinar a taxa de perda de calor através da janela e a temperatura de sua superfície interna.\n",
    "\n",
    "### Hipóteses\n",
    "1. Regime permanente, ou seja, temperaturas constantes. \n",
    "2. Transferência de calor unidimensional \n",
    "3. Condutividade térmica constante\n"
   ]
  },
  {
   "cell_type": "markdown",
   "metadata": {
    "slideshow": {
     "slide_type": "slide"
    }
   },
   "source": [
    "### Propriedades - Condutividade térmica\n",
    "1. Janela de vidro  $ k=0,78 W/(m°C) $ \n",
    "2. Ar  $ k=0,026 W/(m°C)$ "
   ]
  },
  {
   "cell_type": "code",
   "execution_count": 2,
   "metadata": {
    "slideshow": {
     "slide_type": "fragment"
    }
   },
   "outputs": [],
   "source": [
    "k_vid = 0.78 # Condutividade térmica do vidro\n",
    "k_ar = 0.026 # Condutividade térmica do ar\n",
    "h_1 = 10     # Coeficiente de tranf. de calor por convecção.\n",
    "h_2 = 40     # Coeficiente de tranf. de calor por convecção.\n",
    "L_vid = 0.004    # Espessura do vidro (4mm) em metros\n",
    "L_ar = 0.010     # Espessura da camada de ar (10mm) em metros\n",
    "Ti = 20      # Temperatura interna em °C\n",
    "Te = -10     # Temperatura externa em °C"
   ]
  },
  {
   "cell_type": "markdown",
   "metadata": {
    "slideshow": {
     "slide_type": "slide"
    }
   },
   "source": [
    "### Análise\n",
    " As taxas de transferência de calor através da janela pode ser calculada por meio do cálculo da resistência térmica total $R_{total}=R_{conv,i}+R_{vid}+R_{ar}+R_{vid}+R_{conv,e}$, para isso determinamos inicialmente a área da janela: $A=0,8x1,5=1,2m^2$\n",
    " "
   ]
  },
  {
   "cell_type": "code",
   "execution_count": 3,
   "metadata": {
    "slideshow": {
     "slide_type": "fragment"
    }
   },
   "outputs": [],
   "source": [
    "A = 0.8*1.5"
   ]
  },
  {
   "cell_type": "markdown",
   "metadata": {
    "slideshow": {
     "slide_type": "fragment"
    }
   },
   "source": [
    " e depois $R_{conv,i}=\\frac{1}{h_1A}$ e $R_{cond}=\\frac{L}{kA}$"
   ]
  },
  {
   "cell_type": "code",
   "execution_count": 4,
   "metadata": {
    "slideshow": {
     "slide_type": "fragment"
    }
   },
   "outputs": [],
   "source": [
    "# Definindo a função que calcula a resistência térmica combinada (Radiação+Convecção)\n",
    "def Rconv(h,A):\n",
    "    Rconv = 1/(h*A)\n",
    "    return Rconv\n",
    "\n",
    "# Definindo a função que calcula a resistência térmica de condução\n",
    "def Rcond(k,L,A):\n",
    "    Rcond = L/(k*A)\n",
    "    return Rcond"
   ]
  },
  {
   "cell_type": "code",
   "execution_count": 6,
   "metadata": {
    "slideshow": {
     "slide_type": "slide"
    }
   },
   "outputs": [
    {
     "name": "stdout",
     "output_type": "stream",
     "text": [
      "Rconv_i = 0.08333°C/W\n",
      "Rconv_e = 0.02083°C/W\n",
      "Rvid = 0.00427°C/W\n",
      "Rar = 0.32051°C/W\n"
     ]
    }
   ],
   "source": [
    "Rconv_i = Rconv(h_1,A)                        # Calcula a Rconv interno\n",
    "print('Rconv_i = {:.5f}°C/W'.format(Rconv_i)) # Mostra o valor calculado\n",
    "\n",
    "Rconv_e = Rconv(h_2,A)                        # Calcula a Rconv externo\n",
    "print('Rconv_e = {:.5f}°C/W'.format(Rconv_e)) # Mostra o valor calculado\n",
    "\n",
    "Rvid = Rcond(k_vid, L_vid, A)                       # Calcula a Rvid (Condução no vidro) \n",
    "print('Rvid = {:.5f}°C/W'.format(Rvid))       # Mostra o valor calculado\n",
    "\n",
    "Rar = Rcond(k_ar, L_ar, A)                       # Calcula a Rar (Condução no ar entre as camadas de vidro) \n",
    "print('Rar = {:.5f}°C/W'.format(Rar))       # Mostra o valor calculado"
   ]
  },
  {
   "cell_type": "markdown",
   "metadata": {
    "slideshow": {
     "slide_type": "slide"
    }
   },
   "source": [
    "Calculando a resistência térmica total  $R_{total}=R_{conv,i}+R_{vid}+R_{ar}+R_{vid}+R_{conv,e}$"
   ]
  },
  {
   "cell_type": "code",
   "execution_count": 7,
   "metadata": {
    "slideshow": {
     "slide_type": "fragment"
    }
   },
   "outputs": [
    {
     "name": "stdout",
     "output_type": "stream",
     "text": [
      "R_total = 0.4332°C/W\n"
     ]
    }
   ],
   "source": [
    "R_total = Rconv_i+Rvid+Rar+Rvid+Rconv_e                # Soma todas as resistências térmicas\n",
    "print('R_total = {:.4f}°C/W'.format(R_total)) # Mostra a resistência térmica total"
   ]
  },
  {
   "cell_type": "markdown",
   "metadata": {
    "slideshow": {
     "slide_type": "fragment"
    }
   },
   "source": [
    "Portanto, a taxa de perda de calor através da parede é equivalente ao calor conduzido pela parede: <br>"
   ]
  },
  {
   "cell_type": "markdown",
   "metadata": {
    "slideshow": {
     "slide_type": "fragment"
    }
   },
   "source": [
    "$\\dot{Q}=\\frac{T_{i}-T_{e}}{R_{total}}$"
   ]
  },
  {
   "cell_type": "code",
   "execution_count": 10,
   "metadata": {
    "slideshow": {
     "slide_type": "fragment"
    }
   },
   "outputs": [
    {
     "name": "stdout",
     "output_type": "stream",
     "text": [
      "Q = 69.25 W\n"
     ]
    }
   ],
   "source": [
    "Q = (Ti-Te)/R_total                 # Taxa de transf. de Calor\n",
    "print('Q = {:.2f} W'.format(Q))   # Mostra o valor calculado\n"
   ]
  },
  {
   "cell_type": "markdown",
   "metadata": {
    "slideshow": {
     "slide_type": "slide"
    }
   },
   "source": [
    "Para determinarmos a temperatura na parede interna, sabemos que  \n",
    "\n",
    "$Q=\\frac{T_{i}-T_1}{R_{conv,1}} $\n",
    "\n",
    "Assim, reescrevendo a equação para isolar $T_1$, que é a temperatura da superfície interna da janela, obtemos\n",
    "\n",
    "$ T_1 = T_i-Q*R_{conv,1}$\n"
   ]
  },
  {
   "cell_type": "code",
   "execution_count": 11,
   "metadata": {
    "slideshow": {
     "slide_type": "fragment"
    }
   },
   "outputs": [
    {
     "name": "stdout",
     "output_type": "stream",
     "text": [
      "T = 14.23°C\n"
     ]
    }
   ],
   "source": [
    "T1 = Ti - Q*Rconv_i              # Calcula temperatura na superfície interna da janela (T1)\n",
    "print('T = {:.2f}°C'.format(T1)) # Mostra o valor calculado\n"
   ]
  },
  {
   "cell_type": "markdown",
   "metadata": {
    "slideshow": {
     "slide_type": "fragment"
    }
   },
   "source": [
    "Se compararmos com o exercício anterior, cuja temperatura da parede interna foi de $-2.18°C$ para \n",
    "uma janela de $8mm$ de espessura, podemos concluir que utilizando a mesma quantidade de vidro, \n",
    "ou seja, duas lâminas de $4mm$ obtemos uma temperatura interna que diminui a possiblidade de congelamento,\n",
    "ou condensação, da umidade do ar na superfície interna da janela."
   ]
  },
  {
   "cell_type": "markdown",
   "metadata": {
    "slideshow": {
     "slide_type": "slide"
    }
   },
   "source": [
    "### Questão:\n",
    "Se preenchermos o espaço entre as lâminas de vidro com água, a transferência de calor seria maior ou menor? Calcular usando este notebook e enviar um print no AVA."
   ]
  },
  {
   "cell_type": "markdown",
   "metadata": {
    "slideshow": {
     "slide_type": "fragment"
    }
   },
   "source": [
    "## Referência"
   ]
  },
  {
   "cell_type": "markdown",
   "metadata": {
    "slideshow": {
     "slide_type": "fragment"
    }
   },
   "source": [
    "Çengel, Y. A., Turner, R. H., & Cimbala, J. M. (2008). **Fundamentals of thermal-fluid sciences**. Boston: McGraw-Hill."
   ]
  },
  {
   "cell_type": "code",
   "execution_count": null,
   "metadata": {},
   "outputs": [],
   "source": []
  }
 ],
 "metadata": {
  "kernelspec": {
   "display_name": "Python 3",
   "language": "python",
   "name": "python3"
  },
  "language_info": {
   "codemirror_mode": {
    "name": "ipython",
    "version": 3
   },
   "file_extension": ".py",
   "mimetype": "text/x-python",
   "name": "python",
   "nbconvert_exporter": "python",
   "pygments_lexer": "ipython3",
   "version": "3.7.6"
  }
 },
 "nbformat": 4,
 "nbformat_minor": 4
}
