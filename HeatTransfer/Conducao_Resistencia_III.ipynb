{
 "cells": [
  {
   "cell_type": "markdown",
   "metadata": {
    "slideshow": {
     "slide_type": "slide"
    }
   },
   "source": [
    "# Fenômenos de Transporte\n",
    " _Prof. Tito Dias Júnior_"
   ]
  },
  {
   "cell_type": "markdown",
   "metadata": {
    "slideshow": {
     "slide_type": "fragment"
    }
   },
   "source": [
    "### Parte IV: Resistência Térmica Generalizada"
   ]
  },
  {
   "cell_type": "markdown",
   "metadata": {
    "slideshow": {
     "slide_type": "slide"
    }
   },
   "source": [
    "\n",
    "### **Resistência Térmica em Série** \n",
    "Conforme abordado em outra aula, quando o fluxo de calor atravessa em série as resistências térmicas para obtermos a resistência total basta somá-las: \n"
   ]
  },
  {
   "cell_type": "markdown",
   "metadata": {
    "slideshow": {
     "slide_type": "slide"
    }
   },
   "source": [
    "![Resistência Térmica](resistencia_termica.png \"Associação de Resistências Térmicas\")"
   ]
  },
  {
   "cell_type": "markdown",
   "metadata": {
    "slideshow": {
     "slide_type": "fragment"
    }
   },
   "source": [
    "Assim a resistência térmica total pode ser representada:\n",
    "\n",
    "$R_{total}=R_{conv,1}+R_{wall}+R_{conv,2}$\n",
    "\n"
   ]
  },
  {
   "cell_type": "markdown",
   "metadata": {
    "slideshow": {
     "slide_type": "slide"
    }
   },
   "source": [
    "### **Resistência Térmica em Paralelo**\n",
    "Quando o fluxo de calor atravessa a parede por meio de caminhos ou resistências térmicas paralelas, somamos os fluxos de calor para obter o fluxo total, como mostrado a seguir:\n",
    "\n",
    "![image](resistencia_paralelo.png)"
   ]
  },
  {
   "cell_type": "markdown",
   "metadata": {
    "slideshow": {
     "slide_type": "slide"
    }
   },
   "source": [
    "Assim, o fluxo total pode ser escrito:\n",
    "\n",
    "$ \\dot{Q} = \\dot{Q}_{1} = \\dot{Q}_{2}$\n",
    "\n",
    "utilizando as resistências térmicas, podemos escrever,\n",
    "\n",
    "$\\dot{Q}=\\frac{T_{ 1}-T_{ 2}}{R_{total}} = \\frac{T_{1}-T_2}{R_{1}} + \\frac{T_{1}-T_2}{R_{2}}$ ou\n",
    "\n",
    "$\\dot{Q}=\\frac{T_{ 1}-T_{ 2}}{R_{total}} =(T_1-T_2) \\left ( \\frac{1}{R_{1}} + \\frac{1}{R_{2}} \\right )$\n",
    "\n",
    "Assim, obtemos a resistência térmica total\n",
    "\n",
    "$\\frac{1}{R_{total}} = \\left ( \\frac{1}{R_{1}} + \\frac{1}{R_{2}} \\right )$ ou, ainda, \n",
    "$R_{total} = \\frac{R_1 R_2}{R_1+R_2}$"
   ]
  },
  {
   "cell_type": "markdown",
   "metadata": {
    "slideshow": {
     "slide_type": "slide"
    }
   },
   "source": [
    "### **Resistência Generalizada**\n",
    "\n",
    "E, quando o fluxo de calor atravessar caminhos em série e em paralelo, podemos combinar as fórmulas para obter a resistência total. Veja o exemplo abaixo, temos duas resistências em paralelo seguida de uma em série.\n",
    "\n",
    "![image](resistencia_generalizada.PNG)"
   ]
  },
  {
   "cell_type": "markdown",
   "metadata": {
    "slideshow": {
     "slide_type": "slide"
    }
   },
   "source": [
    "Podemos calular a resistência total:\n",
    "\n",
    "$R_{total} = R_{12} + R_3 + R_{conv} = \\frac{R_1 R_2}{R_1+R_2} + R_3 + R_{conv}$\n",
    "\n",
    "lembrando que:\n",
    "\n",
    "$R_1=\\frac{L_1}{k_1 A_1}$,   $R_2=\\frac{L_2}{k_2 A_2}$,  $R_3=\\frac{L_3}{k_3 A_3}$,  $R_{conv}=\\frac{1}{h A_3}$"
   ]
  },
  {
   "cell_type": "markdown",
   "metadata": {
    "slideshow": {
     "slide_type": "slide"
    }
   },
   "source": [
    "## Exemplo: Perda de calor através de uma parede composta\n"
   ]
  },
  {
   "cell_type": "markdown",
   "metadata": {
    "slideshow": {
     "slide_type": "slide"
    }
   },
   "source": [
    "Uma parede com $3m$ de altura e $5m$ de largura contruída com tijolos de $16cm$ de espessura e $22cm$ de altura ($k=0.72 W/(m°C)$) separados por camadas de massa de cimento de $16cm$ de espessura e $3cm$ de altura ($k=0.22 W/(m°C)$). Há também duas camadas de $2cm$ de espessura de reboco ($k=0.22W/(m°C)$) de cada lado e uma camada de espuma rígida no lado interno da parede ($k=0.026 W/(m°C)$), como mostrado na figura a seguir. As temperaturas interna e externa são, respectivamente, $20°C$ e $-10°C$ e os coeficientes de película são $10 W/m^2$ e $25 W/m^2$.  Determinar a taxa de transferência de calor através da parede."
   ]
  },
  {
   "cell_type": "markdown",
   "metadata": {
    "slideshow": {
     "slide_type": "slide"
    }
   },
   "source": [
    "![image](exemplo17-6.png \"Diagrama esquemático da transferência de calor em uma parede\")"
   ]
  },
  {
   "cell_type": "markdown",
   "metadata": {
    "slideshow": {
     "slide_type": "slide"
    }
   },
   "source": [
    "## Solução\n",
    "\n",
    "Há perda de calor do ambiente interno para o extermo através da parede composta. Deve-se determinar a taxa de perda de calor através da parede. Observe na figura que a construção da parede segue um padrão, ou seja, a cada $25cm$ de altura se repete a configuração destacada na figura.\n",
    "\n",
    "### Hipóteses\n",
    "1. Regime permanente, ou seja, temperaturas constantes. \n",
    "2. Transferência de calor unidimensional \n",
    "3. Condutividade térmica constante\n"
   ]
  },
  {
   "cell_type": "markdown",
   "metadata": {
    "slideshow": {
     "slide_type": "slide"
    }
   },
   "source": [
    "### Propriedades - Condutividade térmica\n",
    "1. Tijolo  $ k=0,72 W/(m ° C) $ \n",
    "2. Massa de cimento  $ k=0,22 W/(m ° C)$ \n",
    "3. Reboco  $ k=0,22 W/(m ° C) $ \n",
    "4. Espuma Rígida  $ k=0,026 W/(m ° C) $ "
   ]
  },
  {
   "cell_type": "code",
   "execution_count": 2,
   "metadata": {
    "slideshow": {
     "slide_type": "slide"
    }
   },
   "outputs": [],
   "source": [
    "k_tijolo = 0.72  # Condutividade térmica do tijolo\n",
    "k_cimento = 0.22 # Condutividade térmica do cimento\n",
    "k_reboco = 0.22  # Condutividade térmica do reboco\n",
    "k_espuma = 0.026  # Condutividade térmica da espuma\n",
    "\n",
    "h_1 = 10     # Coeficiente de tranf. de calor por convecção.\n",
    "h_2 = 25     # Coeficiente de tranf. de calor por convecção.\n",
    "\n",
    "L_tijolo = 0.16    # Espessura do tijolo (16cm) em metros\n",
    "L_cimento = 0.16   # Espessura do cimento (16cm) em metros\n",
    "L_reboco = 0.02    # Espessura do reboco (2cm) em metros\n",
    "L_espuma = 0.03    # Espessura da espuma (3cm) em metros\n",
    "\n",
    "Ti = 20      # Temperatura interna em °C\n",
    "Te = -10     # Temperatura externa em °C"
   ]
  },
  {
   "cell_type": "markdown",
   "metadata": {
    "slideshow": {
     "slide_type": "slide"
    }
   },
   "source": [
    "### Análise\n",
    " As taxas de transferência de calor através da janela pode ser calculada por meio do cálculo da resistência térmica total generalizada. Observando o esquema de resistências térmicas na figura anterior, obtemos a resistência total:\n",
    " \n",
    " $R_{total}=R_{conv,i}+R_{1}+R_{2}+R_{345}+R_{6}+R_{conv,e}$,\n",
    " \n",
    " e, podemos recordar que\n",
    " \n",
    "  $\\frac{1}{R_{345}} = \\left ( \\frac{1}{R_{3}} + \\frac{1}{R_{4}} +\\frac{1}{R_{5}} \\right )$\n",
    " \n",
    " para isso determinamos inicialmente a área de cada caminho atravessado pelo fluxo de calor:\n",
    " "
   ]
  },
  {
   "cell_type": "code",
   "execution_count": 3,
   "metadata": {
    "slideshow": {
     "slide_type": "slide"
    }
   },
   "outputs": [],
   "source": [
    "A1 = 0.25*1\n",
    "A2 = 0.25*1\n",
    "A3 = 0.015*1\n",
    "A4 = 0.22*1\n",
    "A5 = 0.015*1\n",
    "A6 = 0.25*1"
   ]
  },
  {
   "cell_type": "markdown",
   "metadata": {
    "slideshow": {
     "slide_type": "fragment"
    }
   },
   "source": [
    " e lembrando que $R_{conv}=\\frac{1}{hA}$ e $R_{cond}=\\frac{L}{kA}$"
   ]
  },
  {
   "cell_type": "code",
   "execution_count": 4,
   "metadata": {
    "slideshow": {
     "slide_type": "fragment"
    }
   },
   "outputs": [],
   "source": [
    "# Definindo a função que calcula a resistência térmica combinada (Radiação+Convecção)\n",
    "def Rconv(h,A):\n",
    "    Rconv = 1/(h*A)\n",
    "    return Rconv\n",
    "\n",
    "# Definindo a função que calcula a resistência térmica de condução\n",
    "def Rcond(k,L,A):\n",
    "    Rcond = L/(k*A)\n",
    "    return Rcond\n",
    "\n",
    "# Definindo a resistência equivalente em paralelo para três R\n",
    "def Rpara(Ra,Rb,Rc):\n",
    "    Rtemp = 1/Ra + 1/Rb + 1/Rc\n",
    "    Rpara = 1/Rtemp\n",
    "    return Rpara\n",
    "    "
   ]
  },
  {
   "cell_type": "code",
   "execution_count": 5,
   "metadata": {
    "slideshow": {
     "slide_type": "slide"
    }
   },
   "outputs": [
    {
     "name": "stdout",
     "output_type": "stream",
     "text": [
      "Rconv_i = 0.40000°C/W\n",
      "R1 = 4.61538°C/W\n",
      "R2 = 0.36364°C/W\n",
      "R3  = 48.48485°C/W\n",
      "R4 = 1.01010°C/W\n",
      "R5 = 48.48485°C/W\n",
      "R6 = 0.36364°C/W\n",
      "Rconv_e = 0.16000°C/W\n"
     ]
    }
   ],
   "source": [
    "Rconv_i = Rconv(h_1,A1)                              # Calcula a Rconv interno\n",
    "print('Rconv_i = {:.5f}°C/W'.format(Rconv_i))        # Mostra o valor calculado\n",
    "\n",
    "R1 = Rcond(k_espuma,L_espuma,A1)                     # Calcula a Rvid (Condução) \n",
    "print('R1 = {:.5f}°C/W'.format(R1))                # Mostra o valor calculado\n",
    "\n",
    "R2 = Rcond(k_reboco,L_reboco,A2)                     # Calcula a Rvid (Condução) \n",
    "print('R2 = {:.5f}°C/W'.format(R2))                # Mostra o valor calculado\n",
    "\n",
    "R3 = Rcond(k_cimento,L_cimento,A3)                     # Calcula a Rvid (Condução) \n",
    "print('R3  = {:.5f}°C/W'.format(R3))                # Mostra o valor calculado\n",
    "\n",
    "R4 = Rcond(k_tijolo,L_tijolo,A4)                     # Calcula a Rvid (Condução) \n",
    "print('R4 = {:.5f}°C/W'.format(R4))                # Mostra o valor calculado\n",
    "\n",
    "R5 = Rcond(k_cimento,L_cimento,A5)                     # Calcula a Rvid (Condução) \n",
    "print('R5 = {:.5f}°C/W'.format(R5))                # Mostra o valor calculado\n",
    "\n",
    "R6 = Rcond(k_reboco,L_reboco,A6)                     # Calcula a Rvid (Condução) \n",
    "print('R6 = {:.5f}°C/W'.format(R6))                # Mostra o valor calculado\n",
    "\n",
    "Rconv_e = Rconv(h_2,A6)                              # Calcula a Rconv externo\n",
    "print('Rconv_e = {:.5f}°C/W'.format(Rconv_e))        # Mostra o valor calculado"
   ]
  },
  {
   "cell_type": "markdown",
   "metadata": {
    "slideshow": {
     "slide_type": "slide"
    }
   },
   "source": [
    "Calculando a resistência térmica total  $R_{total}=R_{conv,i}+R_{1}+R_{2}+R_{345}+R_{6}+R_{conv,e}$"
   ]
  },
  {
   "cell_type": "code",
   "execution_count": 6,
   "metadata": {
    "slideshow": {
     "slide_type": "fragment"
    }
   },
   "outputs": [
    {
     "name": "stdout",
     "output_type": "stream",
     "text": [
      "R_total = 6.8724°C/W\n"
     ]
    }
   ],
   "source": [
    "R_total = Rconv_i+R1+R2+Rpara(R3,R4,R5)+R6+Rconv_e                # Soma todas as resistências térmicas\n",
    "print('R_total = {:.4f}°C/W'.format(R_total)) # Mostra a resistência térmica total"
   ]
  },
  {
   "cell_type": "markdown",
   "metadata": {
    "slideshow": {
     "slide_type": "fragment"
    }
   },
   "source": [
    "Portanto, a taxa de perda de calor através da parede é equivalente ao calor conduzido pela parede para uma área de $0.25m x 1m$, ou seja, $0,25m^2$: <br>"
   ]
  },
  {
   "cell_type": "markdown",
   "metadata": {
    "slideshow": {
     "slide_type": "fragment"
    }
   },
   "source": [
    "$\\dot{Q}=\\frac{T_{i}-T_{e}}{R_{total}}$"
   ]
  },
  {
   "cell_type": "code",
   "execution_count": 7,
   "metadata": {
    "slideshow": {
     "slide_type": "fragment"
    }
   },
   "outputs": [
    {
     "name": "stdout",
     "output_type": "stream",
     "text": [
      "Q = 4.37 W para 0.25m^2\n"
     ]
    }
   ],
   "source": [
    "Q = (Ti-Te)/R_total                 # Taxa de transf. de Calor\n",
    "print('Q = {:.2f} W para 0.25m^2'.format(Q))   # Mostra o valor calculado\n"
   ]
  },
  {
   "cell_type": "markdown",
   "metadata": {
    "slideshow": {
     "slide_type": "slide"
    }
   },
   "source": [
    "Como calculamos a taxa de transfência para uma área de $0.25m^2$, para obter a taxa por metro quadrado basta multiplicar por 4: "
   ]
  },
  {
   "cell_type": "code",
   "execution_count": 8,
   "metadata": {
    "slideshow": {
     "slide_type": "fragment"
    }
   },
   "outputs": [
    {
     "name": "stdout",
     "output_type": "stream",
     "text": [
      "Q = 17.46 W/m^2\n"
     ]
    }
   ],
   "source": [
    "Qm2 = 4*Q\n",
    "print('Q = {:.2f} W/m^2'.format(Qm2))   # Mostra o valor por m2"
   ]
  },
  {
   "cell_type": "markdown",
   "metadata": {
    "slideshow": {
     "slide_type": "fragment"
    }
   },
   "source": [
    "Assim, para obter a taxa de transferência de calor na parede de $3m x 5m$, com área igual a $15m^2$:\n"
   ]
  },
  {
   "cell_type": "code",
   "execution_count": 9,
   "metadata": {
    "slideshow": {
     "slide_type": "fragment"
    }
   },
   "outputs": [
    {
     "name": "stdout",
     "output_type": "stream",
     "text": [
      "Qtotal = 261.92 W\n"
     ]
    }
   ],
   "source": [
    "Qtotal=Qm2*3*5\n",
    "print('Qtotal = {:.2f} W'.format(Qtotal))   # Mostra o valor para a parede toda"
   ]
  },
  {
   "cell_type": "markdown",
   "metadata": {
    "slideshow": {
     "slide_type": "slide"
    }
   },
   "source": [
    "### Questão:\n",
    "Qual a alteração na taxa de transferência de calor se removermos a camada de espuma? Calcular usando este notebook e enviar um print no AVA."
   ]
  },
  {
   "cell_type": "markdown",
   "metadata": {
    "slideshow": {
     "slide_type": "fragment"
    }
   },
   "source": [
    "## Referência"
   ]
  },
  {
   "cell_type": "markdown",
   "metadata": {
    "slideshow": {
     "slide_type": "fragment"
    }
   },
   "source": [
    "Çengel, Y. A., Turner, R. H., & Cimbala, J. M. (2008). **Fundamentals of thermal-fluid sciences**. Boston: McGraw-Hill."
   ]
  },
  {
   "cell_type": "code",
   "execution_count": null,
   "metadata": {},
   "outputs": [],
   "source": []
  }
 ],
 "metadata": {
  "kernelspec": {
   "display_name": "Python 3",
   "language": "python",
   "name": "python3"
  },
  "language_info": {
   "codemirror_mode": {
    "name": "ipython",
    "version": 3
   },
   "file_extension": ".py",
   "mimetype": "text/x-python",
   "name": "python",
   "nbconvert_exporter": "python",
   "pygments_lexer": "ipython3",
   "version": "3.7.6"
  }
 },
 "nbformat": 4,
 "nbformat_minor": 4
}
